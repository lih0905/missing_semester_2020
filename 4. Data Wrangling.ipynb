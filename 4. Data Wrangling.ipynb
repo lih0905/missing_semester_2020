{
 "cells": [
  {
   "cell_type": "markdown",
   "metadata": {},
   "source": [
    "ssh inhwan@192.168.1.39 'journalctl | grep sshd | grep \"Disconnected from\"' > ssh.log"
   ]
  },
  {
   "cell_type": "code",
   "execution_count": 5,
   "metadata": {},
   "outputs": [
    {
     "name": "stdout",
     "output_type": "stream",
     "text": [
      "11월 10 20:29:34 inhwan-X5967T sshd[4109]: Disconnected from user inhwan 192.168.1.181 port 7178\n",
      "11월 10 20:40:36 inhwan-X5967T sshd[4261]: Disconnected from user inhwan 192.168.1.181 port 7436\n",
      "11월 11 22:09:05 inhwan-X5967T sshd[5229]: Disconnected from user inhwan 192.168.1.176 port 11421\n",
      "11월 11 22:40:13 inhwan-X5967T sshd[6236]: Disconnected from user inhwan 192.168.1.176 port 12584\n",
      "11월 16 18:55:49 inhwan-X5967T sshd[30873]: Disconnected from user inhwan 192.168.1.7 port 56962\n",
      "11월 21 19:30:45 inhwan-X5967T sshd[22829]: Disconnected from user inhwan 192.168.1.31 port 50758\n",
      "11월 21 19:32:01 inhwan-X5967T sshd[23017]: Disconnected from user inhwan 192.168.1.31 port 50840\n",
      "12월 06 01:14:41 inhwan-X5967T sshd[15913]: Disconnected from user inhwan 192.168.1.181 port 3429\n",
      "12월 06 01:19:47 inhwan-X5967T sshd[16105]: Disconnected from user inhwan 192.168.1.181 port 3802\n",
      "12월 07 18:26:24 inhwan-X5967T sshd[7897]: Disconnected from user inhwan 192.168.1.181 port 13435\n",
      "12월 07 19:51:33 inhwan-X5967T sshd[9828]: Disconnected from user inhwan 192.168.1.181 port 14983\n",
      "\u001b[K:\u001b[K21:13:08 inhwan-X5967T sshd[17321]: Disconnected from user inhwan 211.21\u001b[7mssh.log\u001b[m\u001b[K\u0007"
     ]
    }
   ],
   "source": [
    "!less ssh.log"
   ]
  },
  {
   "cell_type": "code",
   "execution_count": 6,
   "metadata": {},
   "outputs": [
    {
     "name": "stdout",
     "output_type": "stream",
     "text": [
      "less\r\n",
      "\u001b[0mOpen a file for interactive reading, allowing scrolling and search.\r\n",
      "\u001b[0m\r\n",
      " - \u001b[23;22;24;25;32mOpen a file:\r\n",
      "\u001b[0m\u001b[0m\u001b[23;22;24;25;33m   less {{source_file}}\r\n",
      "\u001b[0m\r\n",
      " - \u001b[23;22;24;25;32mPage down / up:\r\n",
      "\u001b[0m\u001b[0m\u001b[23;22;24;25;33m   <Space> (down), b (up)\r\n",
      "\u001b[0m\r\n",
      " - \u001b[23;22;24;25;32mGo to end / start of file:\r\n",
      "\u001b[0m\u001b[0m\u001b[23;22;24;25;33m   G (end), g (start)\r\n",
      "\u001b[0m\r\n",
      " - \u001b[23;22;24;25;32mForward search for a string (press \r\n",
      "\u001b[0m\u001b[23;22;24;25;33m   n\r\n",
      "\u001b[0m/\r\n",
      "\u001b[0m\u001b[23;22;24;25;33m   N\r\n",
      "\u001b[0m to go to next/previous match):\r\n",
      "\u001b[0m\u001b[0m\u001b[23;22;24;25;33m   /{{something}}\r\n",
      "\u001b[0m\r\n",
      " - \u001b[23;22;24;25;32mBackward search for a string (press \r\n",
      "\u001b[0m\u001b[23;22;24;25;33m   n\r\n",
      "\u001b[0m/\r\n",
      "\u001b[0m\u001b[23;22;24;25;33m   N\r\n",
      "\u001b[0m to go to next/previous match):\r\n",
      "\u001b[0m\u001b[0m\u001b[23;22;24;25;33m   ?{{something}}\r\n",
      "\u001b[0m\r\n",
      " - \u001b[23;22;24;25;32mFollow the output of the currently opened file:\r\n",
      "\u001b[0m\u001b[0m\u001b[23;22;24;25;33m   F\r\n",
      "\u001b[0m\r\n",
      " - \u001b[23;22;24;25;32mOpen the current file in an editor:\r\n",
      "\u001b[0m\u001b[0m\u001b[23;22;24;25;33m   v\r\n",
      "\u001b[0m\r\n",
      " - \u001b[23;22;24;25;32mExit:\r\n",
      "\u001b[0m\u001b[0m\u001b[23;22;24;25;33m   q\r\n",
      "\u001b[0m\u001b[0m"
     ]
    }
   ],
   "source": [
    "!tldr less"
   ]
  },
  {
   "cell_type": "code",
   "execution_count": 7,
   "metadata": {},
   "outputs": [
    {
     "name": "stdout",
     "output_type": "stream",
     "text": [
      "user inhwan 192.168.1.181 port 7178\r\n",
      "user inhwan 192.168.1.181 port 7436\r\n",
      "user inhwan 192.168.1.176 port 11421\r\n",
      "user inhwan 192.168.1.176 port 12584\r\n",
      "user inhwan 192.168.1.7 port 56962\r\n",
      "user inhwan 192.168.1.31 port 50758\r\n",
      "user inhwan 192.168.1.31 port 50840\r\n",
      "user inhwan 192.168.1.181 port 3429\r\n",
      "user inhwan 192.168.1.181 port 3802\r\n",
      "user inhwan 192.168.1.181 port 13435\r\n",
      "user inhwan 192.168.1.181 port 14983\r\n",
      "user inhwan 211.217.117.7 port 54928\r\n",
      "user inhwan 211.217.117.7 port 54959\r\n",
      "user inhwan 211.217.117.7 port 54543\r\n",
      "user inhwan 115.91.138.164 port 55846\r\n",
      "user inhwan 115.91.138.164 port 55883\r\n",
      "user inhwan 61.42.251.217 port 50477\r\n",
      "user inhwan 218.39.111.183 port 57939\r\n",
      "user inhwan 218.39.111.183 port 58267\r\n",
      "user inhwan 218.39.111.183 port 59709\r\n",
      "user inhwan 218.39.111.183 port 59725\r\n",
      "user inhwan 218.39.111.183 port 60135\r\n",
      "user inhwan 218.39.111.183 port 60143\r\n",
      "user inhwan 39.7.59.129 port 36150\r\n",
      "user inhwan 175.193.7.139 port 64253\r\n",
      "user inhwan 192.168.1.181 port 13466\r\n",
      "user inhwan 192.168.1.181 port 13492\r\n",
      "user inhwan 192.168.1.181 port 14027\r\n",
      "user inhwan 192.168.1.181 port 14062\r\n",
      "user inhwan 192.168.1.181 port 14152\r\n",
      "user inhwan 192.168.1.181 port 14201\r\n",
      "user inhwan 192.168.1.181 port 14236\r\n",
      "user inhwan 192.168.1.181 port 14278\r\n",
      "user inhwan 192.168.1.181 port 7663\r\n",
      "user inhwan 192.168.1.181 port 8565\r\n",
      "user inhwan 192.168.1.181 port 9249\r\n",
      "user inhwan 192.168.1.181 port 3398\r\n",
      "user inhwan 192.168.1.181 port 3943\r\n",
      "user inhwan 192.168.1.181 port 4550\r\n",
      "user inhwan 192.168.1.181 port 3991\r\n",
      "user inhwan 59.10.150.227 port 49703\r\n",
      "user inhwan 192.168.1.181 port 1193\r\n",
      "user inhwan 192.168.1.181 port 14933\r\n",
      "user inhwan 192.168.1.181 port 5427\r\n",
      "user inhwan 192.168.1.181 port 5445\r\n",
      "user inhwan 192.168.1.181 port 5714\r\n",
      "user inhwan 192.168.1.181 port 11994\r\n",
      "user inhwan 192.168.1.181 port 3499\r\n",
      "user inhwan 192.168.1.181 port 3309\r\n",
      "user inhwan 192.168.1.181 port 11542\r\n",
      "user inhwan 192.168.1.181 port 10252\r\n",
      "user inhwan 192.168.1.181 port 14689\r\n",
      "user inhwan 192.168.1.181 port 1041\r\n",
      "user inhwan 192.168.1.181 port 1118\r\n",
      "user inhwan 192.168.1.181 port 1127\r\n",
      "user inhwan 192.168.1.181 port 1140\r\n",
      "user inhwan 192.168.1.181 port 1149\r\n",
      "user inhwan 192.168.1.181 port 1174\r\n",
      "user inhwan 192.168.1.181 port 1200\r\n",
      "user inhwan 192.168.1.181 port 1206\r\n",
      "user inhwan 192.168.1.181 port 1213\r\n",
      "user inhwan 192.168.1.181 port 1268\r\n",
      "user inhwan 192.168.1.181 port 1334\r\n",
      "user inhwan 192.168.1.181 port 1350\r\n",
      "user inhwan 192.168.1.181 port 1765\r\n",
      "user inhwan 192.168.1.181 port 3011\r\n",
      "user inhwan 192.168.1.181 port 3046\r\n",
      "user inhwan 192.168.1.181 port 10433\r\n",
      "user inhwan 192.168.1.181 port 10434\r\n",
      "user inhwan 192.168.1.143 port 12148\r\n",
      "user inhwan 192.168.1.39 port 60248\r\n",
      "user inhwan 192.168.1.39 port 60258\r\n",
      "user inhwan 192.168.1.39 port 60394\r\n"
     ]
    }
   ],
   "source": [
    "!less ssh.log | sed 's/.*Disconnected from //'"
   ]
  },
  {
   "cell_type": "markdown",
   "metadata": {},
   "source": [
    "# 정규식\n",
    "\n",
    "* `.` means “any single character” except newline\n",
    "* `*` zero or more of the preceding match\n",
    "* `+` one or more of the preceding match\n",
    "* `[abc]` any one character of a, b, and c\n",
    "* `(RX1|RX2)` either something that matches RX1 or RX2\n",
    "* `^` the start of the line\n",
    "* `$` the end of the line"
   ]
  },
  {
   "cell_type": "code",
   "execution_count": null,
   "metadata": {},
   "outputs": [],
   "source": []
  }
 ],
 "metadata": {
  "kernelspec": {
   "display_name": "Python 3",
   "language": "python",
   "name": "python3"
  },
  "language_info": {
   "codemirror_mode": {
    "name": "ipython",
    "version": 3
   },
   "file_extension": ".py",
   "mimetype": "text/x-python",
   "name": "python",
   "nbconvert_exporter": "python",
   "pygments_lexer": "ipython3",
   "version": "3.7.3"
  }
 },
 "nbformat": 4,
 "nbformat_minor": 2
}
