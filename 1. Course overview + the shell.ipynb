{
 "cells": [
  {
   "cell_type": "code",
   "execution_count": 24,
   "metadata": {},
   "outputs": [
    {
     "name": "stdout",
     "output_type": "stream",
     "text": [
      "/bin/echo\r\n"
     ]
    }
   ],
   "source": [
    "!which echo # 파일의 위치"
   ]
  },
  {
   "cell_type": "code",
   "execution_count": 25,
   "metadata": {},
   "outputs": [
    {
     "name": "stdout",
     "output_type": "stream",
     "text": [
      "/home/inhwan/G_drive/Programming/Missing_Semester_2020\r\n"
     ]
    }
   ],
   "source": [
    "!pwd # 현재 디렉토리"
   ]
  },
  {
   "cell_type": "code",
   "execution_count": 27,
   "metadata": {},
   "outputs": [
    {
     "name": "stdout",
     "output_type": "stream",
     "text": [
      "/home/inhwan/G_drive/Programming/Missing_Semester_2020\r\n"
     ]
    }
   ],
   "source": [
    "!cd - # 직전 디렉토리로 돌아감"
   ]
  },
  {
   "cell_type": "code",
   "execution_count": 31,
   "metadata": {},
   "outputs": [
    {
     "name": "stdout",
     "output_type": "stream",
     "text": [
      "Hello\r\n"
     ]
    }
   ],
   "source": [
    "!echo 'Hello' # 출력. 이후에 ' > 파일명' 붙이면 파일로 저장가능"
   ]
  },
  {
   "cell_type": "markdown",
   "metadata": {},
   "source": [
    "명령과 명령을 연결할 때는 | 를 이용한다."
   ]
  },
  {
   "cell_type": "markdown",
   "metadata": {},
   "source": [
    "# Exercises"
   ]
  },
  {
   "cell_type": "code",
   "execution_count": 4,
   "metadata": {},
   "outputs": [],
   "source": [
    "!mkdir Exercises_1"
   ]
  },
  {
   "cell_type": "code",
   "execution_count": 5,
   "metadata": {},
   "outputs": [
    {
     "name": "stdout",
     "output_type": "stream",
     "text": [
      "'1. Course overview + the shell.ipynb'\t Exercises_1   README.md\r\n"
     ]
    }
   ],
   "source": [
    "!ls"
   ]
  },
  {
   "cell_type": "code",
   "execution_count": 6,
   "metadata": {},
   "outputs": [],
   "source": [
    "!cd Exercises_1/"
   ]
  },
  {
   "cell_type": "markdown",
   "metadata": {},
   "source": [
    "2. Look up the `touch` program. The `man` program is your friend."
   ]
  },
  {
   "cell_type": "code",
   "execution_count": 8,
   "metadata": {},
   "outputs": [
    {
     "name": "stdout",
     "output_type": "stream",
     "text": [
      "TOUCH(1)                         User Commands                        TOUCH(1)\r\n",
      "\r\n",
      "N\bNA\bAM\bME\bE\r\n",
      "       touch - change file timestamps\r\n",
      "\r\n",
      "S\bSY\bYN\bNO\bOP\bPS\bSI\bIS\bS\r\n",
      "       t\bto\bou\buc\bch\bh [_\bO_\bP_\bT_\bI_\bO_\bN]... _\bF_\bI_\bL_\bE...\r\n",
      "\r\n",
      "D\bDE\bES\bSC\bCR\bRI\bIP\bPT\bTI\bIO\bON\bN\r\n",
      "       Update  the  access  and modification times of each FILE to the current\r\n",
      "       time.\r\n",
      "\r\n",
      "       A FILE argument that does not exist is created empty, unless -\b-c\bc  or  -\b-h\bh\r\n",
      "       is supplied.\r\n",
      "\r\n",
      "       A  FILE  argument  string of - is handled specially and causes touch to\r\n",
      "       change the times of the file associated with standard output.\r\n",
      "\r\n",
      "       Mandatory arguments to long options are  mandatory  for  short  options\r\n",
      "       too.\r\n",
      "\r\n",
      "       -\b-a\ba     change only the access time\r\n",
      "\r\n",
      "       -\b-c\bc, -\b--\b-n\bno\bo-\b-c\bcr\bre\bea\bat\bte\be\r\n",
      "              do not create any files\r\n",
      "\r\n",
      "       -\b-d\bd, -\b--\b-d\bda\bat\bte\be=_\bS_\bT_\bR_\bI_\bN_\bG\r\n",
      "              parse STRING and use it instead of current time\r\n",
      "\r\n",
      "       -\b-f\bf     (ignored)\r\n",
      "\r\n",
      "       -\b-h\bh, -\b--\b-n\bno\bo-\b-d\bde\ber\bre\bef\bfe\ber\bre\ben\bnc\bce\be\r\n",
      "              affect each symbolic link instead of any referenced file (useful\r\n",
      "              only on systems that can change the timestamps of a symlink)\r\n",
      "\r\n",
      "       -\b-m\bm     change only the modification time\r\n",
      "\r\n",
      "       -\b-r\br, -\b--\b-r\bre\bef\bfe\ber\bre\ben\bnc\bce\be=_\bF_\bI_\bL_\bE\r\n",
      "              use this file's times instead of current time\r\n",
      "\r\n",
      "       -\b-t\bt STAMP\r\n",
      "              use [[CC]YY]MMDDhhmm[.ss] instead of current time\r\n",
      "\r\n",
      "       -\b--\b-t\bti\bim\bme\be=_\bW_\bO_\bR_\bD\r\n",
      "              change the specified time: WORD is access, atime, or use: equiv‐\r\n",
      "              alent to -\b-a\ba WORD is modify or mtime: equivalent to -\b-m\bm\r\n",
      "\r\n",
      "       -\b--\b-h\bhe\bel\blp\bp display this help and exit\r\n",
      "\r\n",
      "       -\b--\b-v\bve\ber\brs\bsi\bio\bon\bn\r\n",
      "              output version information and exit\r\n",
      "\r\n",
      "       Note that the -\b-d\bd and -\b-t\bt options accept different time-date formats.\r\n",
      "\r\n",
      "D\bDA\bAT\bTE\bE S\bST\bTR\bRI\bIN\bNG\bG\r\n",
      "       The  --date=STRING  is  a mostly free format human readable date string\r\n",
      "       such as \"Sun, 29 Feb 2004 16:21:42 -0800\" or \"2004-02-29  16:21:42\"  or\r\n",
      "       even  \"next Thursday\".  A date string may contain items indicating cal‐\r\n",
      "       endar date, time of day, time zone, day of week, relative  time,  rela‐\r\n",
      "       tive date, and numbers.  An empty string indicates the beginning of the\r\n",
      "       day.  The date string format is more complex than is easily  documented\r\n",
      "       here but is fully described in the info documentation.\r\n",
      "\r\n",
      "A\bAU\bUT\bTH\bHO\bOR\bR\r\n",
      "       Written  by  Paul  Rubin, Arnold Robbins, Jim Kingdon, David MacKenzie,\r\n",
      "       and Randy Smith.\r\n",
      "\r\n",
      "R\bRE\bEP\bPO\bOR\bRT\bTI\bIN\bNG\bG B\bBU\bUG\bGS\bS\r\n",
      "       GNU coreutils online help: <http://www.gnu.org/software/coreutils/>\r\n",
      "       Report touch translation bugs to <http://translationproject.org/team/>\r\n",
      "\r\n",
      "C\bCO\bOP\bPY\bYR\bRI\bIG\bGH\bHT\bT\r\n",
      "       Copyright © 2017 Free Software Foundation, Inc.   License  GPLv3+:  GNU\r\n",
      "       GPL version 3 or later <http://gnu.org/licenses/gpl.html>.\r\n",
      "       This  is  free  software:  you  are free to change and redistribute it.\r\n",
      "       There is NO WARRANTY, to the extent permitted by law.\r\n",
      "\r\n",
      "S\bSE\bEE\bE A\bAL\bLS\bSO\bO\r\n",
      "       Full documentation at: <http://www.gnu.org/software/coreutils/touch>\r\n",
      "       or available locally via: info '(coreutils) touch invocation'\r\n",
      "\r\n",
      "GNU coreutils 8.28               January 2018                         TOUCH(1)\r\n"
     ]
    }
   ],
   "source": [
    "!man touch"
   ]
  },
  {
   "cell_type": "markdown",
   "metadata": {},
   "source": [
    "3. Use `touch` to create a new file called `semester` in missing."
   ]
  },
  {
   "cell_type": "code",
   "execution_count": 10,
   "metadata": {},
   "outputs": [],
   "source": [
    "!touch ./Exercises_1/semester"
   ]
  },
  {
   "cell_type": "markdown",
   "metadata": {},
   "source": [
    "4. Write the following into that file, one line at a time:\n",
    "```\n",
    "#!/bin/sh\n",
    "curl --head --silent https://missing.csail.mit.edu\n",
    "```"
   ]
  },
  {
   "cell_type": "code",
   "execution_count": 15,
   "metadata": {},
   "outputs": [],
   "source": [
    "!echo '#!/bin/sh' > ./Exercises_1/semester"
   ]
  },
  {
   "cell_type": "code",
   "execution_count": 16,
   "metadata": {},
   "outputs": [
    {
     "name": "stdout",
     "output_type": "stream",
     "text": [
      "#!/bin/sh\r\n"
     ]
    }
   ],
   "source": [
    "!cat ./Exercises_1/semester"
   ]
  },
  {
   "cell_type": "code",
   "execution_count": 17,
   "metadata": {},
   "outputs": [],
   "source": [
    "!echo 'curl --head --silent https://missing.csail.mit.edu' >> ./Exercises_1/semester"
   ]
  },
  {
   "cell_type": "code",
   "execution_count": 18,
   "metadata": {},
   "outputs": [
    {
     "name": "stdout",
     "output_type": "stream",
     "text": [
      "#!/bin/sh\r\n",
      "curl --head --silent https://missing.csail.mit.edu\r\n"
     ]
    }
   ],
   "source": [
    "!cat ./Exercises_1/semester"
   ]
  },
  {
   "cell_type": "markdown",
   "metadata": {},
   "source": [
    "5. Try to execute the file. Investigate why it doesn’t work with `ls`."
   ]
  },
  {
   "cell_type": "code",
   "execution_count": 19,
   "metadata": {
    "scrolled": true
   },
   "outputs": [
    {
     "name": "stdout",
     "output_type": "stream",
     "text": [
      "/bin/sh: 1: ./Exercises_1/semester: Permission denied\r\n"
     ]
    }
   ],
   "source": [
    "!./Exercises_1/semester"
   ]
  },
  {
   "cell_type": "code",
   "execution_count": 20,
   "metadata": {},
   "outputs": [
    {
     "name": "stdout",
     "output_type": "stream",
     "text": [
      "합계 4\r\n",
      "-rw-r--r-- 1 inhwan inhwan 61  2월 20 00:21 semester\r\n"
     ]
    }
   ],
   "source": [
    "!ls ./Exercises_1/ -l"
   ]
  },
  {
   "cell_type": "markdown",
   "metadata": {},
   "source": [
    "실행 권한이 없는 것이 문제."
   ]
  },
  {
   "cell_type": "markdown",
   "metadata": {},
   "source": [
    "6. Look up the `chmod` program."
   ]
  },
  {
   "cell_type": "code",
   "execution_count": 21,
   "metadata": {},
   "outputs": [
    {
     "name": "stdout",
     "output_type": "stream",
     "text": [
      "CHMOD(1)                         User Commands                        CHMOD(1)\r\n",
      "\r\n",
      "N\bNA\bAM\bME\bE\r\n",
      "       chmod - change file mode bits\r\n",
      "\r\n",
      "S\bSY\bYN\bNO\bOP\bPS\bSI\bIS\bS\r\n",
      "       c\bch\bhm\bmo\bod\bd [_\bO_\bP_\bT_\bI_\bO_\bN]... _\bM_\bO_\bD_\bE[_\b,_\bM_\bO_\bD_\bE]... _\bF_\bI_\bL_\bE...\r\n",
      "       c\bch\bhm\bmo\bod\bd [_\bO_\bP_\bT_\bI_\bO_\bN]... _\bO_\bC_\bT_\bA_\bL_\b-_\bM_\bO_\bD_\bE _\bF_\bI_\bL_\bE...\r\n",
      "       c\bch\bhm\bmo\bod\bd [_\bO_\bP_\bT_\bI_\bO_\bN]... _\b-_\b-_\br_\be_\bf_\be_\br_\be_\bn_\bc_\be_\b=_\bR_\bF_\bI_\bL_\bE _\bF_\bI_\bL_\bE...\r\n",
      "\r\n",
      "D\bDE\bES\bSC\bCR\bRI\bIP\bPT\bTI\bIO\bON\bN\r\n",
      "       This manual page documents the GNU version of c\bch\bhm\bmo\bod\bd.  c\bch\bhm\bmo\bod\bd changes the\r\n",
      "       file mode bits of each given file  according  to  _\bm_\bo_\bd_\be,  which  can  be\r\n",
      "       either a symbolic representation of changes to make, or an octal number\r\n",
      "       representing the bit pattern for the new mode bits.\r\n",
      "\r\n",
      "       The format of a symbolic mode is  [u\bug\bgo\boa\ba...][[-\b-+\b+=\b=][_\bp_\be_\br_\bm_\bs...]...],  where\r\n",
      "       _\bp_\be_\br_\bm_\bs  is  either zero or more letters from the set r\brw\bwx\bxX\bXs\bst\bt, or a single\r\n",
      "       letter from the set u\bug\bgo\bo.  Multiple symbolic modes can be  given,  sepa‐\r\n",
      "       rated by commas.\r\n",
      "\r\n",
      "       A  combination  of the letters u\bug\bgo\boa\ba controls which users' access to the\r\n",
      "       file will be changed: the user who owns it  (u\bu),  other  users  in  the\r\n",
      "       file's group (g\bg), other users not in the file's group (o\bo), or all users\r\n",
      "       (a\ba).  If none of these are given, the effect is as if (a\ba)  were  given,\r\n",
      "       but bits that are set in the umask are not affected.\r\n",
      "\r\n",
      "       The  operator  +\b+  causes the selected file mode bits to be added to the\r\n",
      "       existing file mode bits of each file; -\b- causes them to be removed;  and\r\n",
      "       =\b=  causes  them  to  be added and causes unmentioned bits to be removed\r\n",
      "       except that a directory's unmentioned set user and group  ID  bits  are\r\n",
      "       not affected.\r\n",
      "\r\n",
      "       The  letters  r\brw\bwx\bxX\bXs\bst\bt select file mode bits for the affected users: read\r\n",
      "       (r\br), write (w\bw), execute (or search for directories) (x\bx), execute/search\r\n",
      "       only  if  the file is a directory or already has execute permission for\r\n",
      "       some user (X\bX), set user or group ID on execution (s\bs), restricted  dele‐\r\n",
      "       tion  flag or sticky bit (t\bt).  Instead of one or more of these letters,\r\n",
      "       you can specify exactly one of the letters u\bug\bgo\bo: the permissions granted\r\n",
      "       to  the  user  who  owns the file (u\bu), the permissions granted to other\r\n",
      "       users who are members of the file's  group  (g\bg),  and  the  permissions\r\n",
      "       granted  to  users  that are in neither of the two preceding categories\r\n",
      "       (o\bo).\r\n",
      "\r\n",
      "       A numeric mode is from one to  four  octal  digits  (0-7),  derived  by\r\n",
      "       adding up the bits with values 4, 2, and 1.  Omitted digits are assumed\r\n",
      "       to be leading zeros.  The first digit selects the set user ID  (4)  and\r\n",
      "       set group ID (2) and restricted deletion or sticky (1) attributes.  The\r\n",
      "       second digit selects permissions for the user who owns the  file:  read\r\n",
      "       (4),  write  (2),  and  execute  (1); the third selects permissions for\r\n",
      "       other users in the file's group, with the same values; and  the  fourth\r\n",
      "       for other users not in the file's group, with the same values.\r\n",
      "\r\n",
      "       c\bch\bhm\bmo\bod\bd never changes the permissions of symbolic links; the c\bch\bhm\bmo\bod\bd system\r\n",
      "       call cannot change their permissions.  This is not a problem since  the\r\n",
      "       permissions  of  symbolic links are never used.  However, for each sym‐\r\n",
      "       bolic link listed on the command line, c\bch\bhm\bmo\bod\bd changes the permissions of\r\n",
      "       the pointed-to file.  In contrast, c\bch\bhm\bmo\bod\bd ignores symbolic links encoun‐\r\n",
      "       tered during recursive directory traversals.\r\n",
      "\r\n",
      "S\bSE\bET\bTU\bUI\bID\bD A\bAN\bND\bD S\bSE\bET\bTG\bGI\bID\bD B\bBI\bIT\bTS\bS\r\n",
      "       c\bch\bhm\bmo\bod\bd clears the set-group-ID bit of a regular file if the file's group\r\n",
      "       ID  does  not  match the user's effective group ID or one of the user's\r\n",
      "       supplementary group IDs, unless the user  has  appropriate  privileges.\r\n",
      "       Additional restrictions may cause the set-user-ID and set-group-ID bits\r\n",
      "       of _\bM_\bO_\bD_\bE or _\bR_\bF_\bI_\bL_\bE to be ignored.  This behavior depends  on  the  policy\r\n",
      "       and  functionality of the underlying c\bch\bhm\bmo\bod\bd system call.  When in doubt,\r\n",
      "       check the underlying system behavior.\r\n",
      "\r\n",
      "       c\bch\bhm\bmo\bod\bd preserves a directory's set-user-ID and set-group-ID bits  unless\r\n",
      "       you  explicitly  specify otherwise.  You can set or clear the bits with\r\n",
      "       symbolic modes like u\bu+\b+s\bs and g\bg-\b-s\bs, and you can set (but  not  clear)  the\r\n",
      "       bits with a numeric mode.\r\n",
      "\r\n",
      "R\bRE\bES\bST\bTR\bRI\bIC\bCT\bTE\bED\bD D\bDE\bEL\bLE\bET\bTI\bIO\bON\bN F\bFL\bLA\bAG\bG O\bOR\bR S\bST\bTI\bIC\bCK\bKY\bY B\bBI\bIT\bT\r\n",
      "       The  restricted  deletion  flag  or  sticky  bit is a single bit, whose\r\n",
      "       interpretation depends on the file type.  For directories, it  prevents\r\n",
      "       unprivileged  users  from  removing or renaming a file in the directory\r\n",
      "       unless they  own  the  file  or  the  directory;  this  is  called  the\r\n",
      "       _\br_\be_\bs_\bt_\br_\bi_\bc_\bt_\be_\bd  _\bd_\be_\bl_\be_\bt_\bi_\bo_\bn  _\bf_\bl_\ba_\bg  for the directory, and is commonly found on\r\n",
      "       world-writable directories like /\b/t\btm\bmp\bp.  For regular files on some  older\r\n",
      "       systems,  the  bit saves the program's text image on the swap device so\r\n",
      "       it will load more quickly when run; this is called the _\bs_\bt_\bi_\bc_\bk_\by _\bb_\bi_\bt.\r\n",
      "\r\n",
      "O\bOP\bPT\bTI\bIO\bON\bNS\bS\r\n",
      "       Change the mode of each FILE to MODE.   With  -\b--\b-r\bre\bef\bfe\ber\bre\ben\bnc\bce\be,  change  the\r\n",
      "       mode of each FILE to that of RFILE.\r\n",
      "\r\n",
      "       -\b-c\bc, -\b--\b-c\bch\bha\ban\bng\bge\bes\bs\r\n",
      "              like verbose but report only when a change is made\r\n",
      "\r\n",
      "       -\b-f\bf, -\b--\b-s\bsi\bil\ble\ben\bnt\bt, -\b--\b-q\bqu\bui\bie\bet\bt\r\n",
      "              suppress most error messages\r\n",
      "\r\n",
      "       -\b-v\bv, -\b--\b-v\bve\ber\brb\bbo\bos\bse\be\r\n",
      "              output a diagnostic for every file processed\r\n",
      "\r\n",
      "       -\b--\b-n\bno\bo-\b-p\bpr\bre\bes\bse\ber\brv\bve\be-\b-r\bro\boo\bot\bt\r\n",
      "              do not treat '/' specially (the default)\r\n",
      "\r\n",
      "       -\b--\b-p\bpr\bre\bes\bse\ber\brv\bve\be-\b-r\bro\boo\bot\bt\r\n",
      "              fail to operate recursively on '/'\r\n",
      "\r\n",
      "       -\b--\b-r\bre\bef\bfe\ber\bre\ben\bnc\bce\be=_\bR_\bF_\bI_\bL_\bE\r\n",
      "              use RFILE's mode instead of MODE values\r\n",
      "\r\n",
      "       -\b-R\bR, -\b--\b-r\bre\bec\bcu\bur\brs\bsi\biv\bve\be\r\n",
      "              change files and directories recursively\r\n",
      "\r\n",
      "       -\b--\b-h\bhe\bel\blp\bp display this help and exit\r\n",
      "\r\n",
      "       -\b--\b-v\bve\ber\brs\bsi\bio\bon\bn\r\n",
      "              output version information and exit\r\n",
      "\r\n",
      "       Each           MODE           is          of          the          form\r\n",
      "       '[ugoa]*([-+=]([rwxXst]*|[ugo]))+|[-+=][0-7]+'.\r\n",
      "\r\n",
      "A\bAU\bUT\bTH\bHO\bOR\bR\r\n",
      "       Written by David MacKenzie and Jim Meyering.\r\n",
      "\r\n",
      "R\bRE\bEP\bPO\bOR\bRT\bTI\bIN\bNG\bG B\bBU\bUG\bGS\bS\r\n",
      "       GNU coreutils online help: <http://www.gnu.org/software/coreutils/>\r\n",
      "       Report chmod translation bugs to <http://translationproject.org/team/>\r\n",
      "\r\n",
      "C\bCO\bOP\bPY\bYR\bRI\bIG\bGH\bHT\bT\r\n",
      "       Copyright © 2017 Free Software Foundation, Inc.   License  GPLv3+:  GNU\r\n",
      "       GPL version 3 or later <http://gnu.org/licenses/gpl.html>.\r\n",
      "       This  is  free  software:  you  are free to change and redistribute it.\r\n",
      "       There is NO WARRANTY, to the extent permitted by law.\r\n",
      "\r\n",
      "S\bSE\bEE\bE A\bAL\bLS\bSO\bO\r\n",
      "       chmod(2)\r\n",
      "\r\n",
      "       Full documentation at: <http://www.gnu.org/software/coreutils/chmod>\r\n",
      "       or available locally via: info '(coreutils) chmod invocation'\r\n",
      "\r\n",
      "GNU coreutils 8.28               January 2018                         CHMOD(1)\r\n"
     ]
    }
   ],
   "source": [
    "!man chmod"
   ]
  },
  {
   "cell_type": "markdown",
   "metadata": {},
   "source": [
    "7. Use `chmod` to make it possible to run the command `./semester`."
   ]
  },
  {
   "cell_type": "code",
   "execution_count": 32,
   "metadata": {},
   "outputs": [],
   "source": [
    "!chmod u+x ./Exercises_1/semester"
   ]
  },
  {
   "cell_type": "code",
   "execution_count": 34,
   "metadata": {},
   "outputs": [
    {
     "name": "stdout",
     "output_type": "stream",
     "text": [
      "HTTP/2 200 \r",
      "\r\n",
      "content-type: text/html; charset=utf-8\r",
      "\r\n",
      "server: GitHub.com\r",
      "\r\n",
      "last-modified: Thu, 13 Feb 2020 22:29:33 GMT\r",
      "\r\n",
      "etag: \"5e45cdcd-1abd\"\r",
      "\r\n",
      "access-control-allow-origin: *\r",
      "\r\n",
      "expires: Wed, 19 Feb 2020 09:20:36 GMT\r",
      "\r\n",
      "cache-control: max-age=600\r",
      "\r\n",
      "x-proxy-cache: MISS\r",
      "\r\n",
      "x-github-request-id: 36D4:2279:128544:142B0C:5E4CFB8C\r",
      "\r\n",
      "accept-ranges: bytes\r",
      "\r\n",
      "date: Wed, 19 Feb 2020 15:26:31 GMT\r",
      "\r\n",
      "via: 1.1 varnish\r",
      "\r\n",
      "age: 0\r",
      "\r\n",
      "x-served-by: cache-hnd18735-HND\r",
      "\r\n",
      "x-cache: HIT\r",
      "\r\n",
      "x-cache-hits: 1\r",
      "\r\n",
      "x-timer: S1582125992.710340,VS0,VE169\r",
      "\r\n",
      "vary: Accept-Encoding\r",
      "\r\n",
      "x-fastly-request-id: ff661020768f467a3489dc5cbb317e72ee20c27e\r",
      "\r\n",
      "content-length: 6845\r",
      "\r\n",
      "\r",
      "\r\n"
     ]
    }
   ],
   "source": [
    "!./Exercises_1/semester"
   ]
  },
  {
   "cell_type": "markdown",
   "metadata": {},
   "source": [
    "8. Use `|` and `>` to write the “last modified” date output by `semester` into a file called `last-modified.txt` in your home directory."
   ]
  },
  {
   "cell_type": "code",
   "execution_count": 35,
   "metadata": {},
   "outputs": [
    {
     "name": "stdout",
     "output_type": "stream",
     "text": [
      "last-modified: Thu, 13 Feb 2020 22:29:33 GMT\r",
      "\r\n"
     ]
    }
   ],
   "source": [
    "!./Exercises_1/semester | grep --ignore-case 'last-modified' "
   ]
  },
  {
   "cell_type": "code",
   "execution_count": 36,
   "metadata": {},
   "outputs": [],
   "source": [
    "!./Exercises_1/semester | grep --ignore-case 'last-modified' > ./Exercises_1/last-modified.txt"
   ]
  },
  {
   "cell_type": "code",
   "execution_count": 37,
   "metadata": {},
   "outputs": [
    {
     "name": "stdout",
     "output_type": "stream",
     "text": [
      "last-modified: Thu, 13 Feb 2020 22:29:33 GMT\r",
      "\r\n"
     ]
    }
   ],
   "source": [
    "!cat ./Exercises_1/last-modified.txt"
   ]
  },
  {
   "cell_type": "markdown",
   "metadata": {},
   "source": [
    "9. Write a command that reads out your laptop battery’s power level or your desktop machine’s CPU temperature from `/sys`. Note: if you’re a macOS user, your OS doesn’t have sysfs, so you can skip this exercise."
   ]
  },
  {
   "cell_type": "code",
   "execution_count": 38,
   "metadata": {},
   "outputs": [
    {
     "name": "stdout",
     "output_type": "stream",
     "text": [
      "block  class  devices\tfs\t    kernel  power\r\n",
      "bus    dev    firmware\thypervisor  module\r\n"
     ]
    }
   ],
   "source": [
    "!ls /sys"
   ]
  },
  {
   "cell_type": "code",
   "execution_count": 56,
   "metadata": {},
   "outputs": [
    {
     "name": "stdout",
     "output_type": "stream",
     "text": [
      "/sys/class/thermal/thermal_zone0/temp  /sys/class/thermal/thermal_zone2/temp\r\n",
      "/sys/class/thermal/thermal_zone1/temp  /sys/class/thermal/thermal_zone3/temp\r\n"
     ]
    }
   ],
   "source": [
    "!ls /sys/class/thermal/thermal_zone*/temp"
   ]
  },
  {
   "cell_type": "code",
   "execution_count": null,
   "metadata": {},
   "outputs": [],
   "source": []
  }
 ],
 "metadata": {
  "kernelspec": {
   "display_name": "Python 3",
   "language": "python",
   "name": "python3"
  },
  "language_info": {
   "codemirror_mode": {
    "name": "ipython",
    "version": 3
   },
   "file_extension": ".py",
   "mimetype": "text/x-python",
   "name": "python",
   "nbconvert_exporter": "python",
   "pygments_lexer": "ipython3",
   "version": "3.7.3"
  }
 },
 "nbformat": 4,
 "nbformat_minor": 2
}
