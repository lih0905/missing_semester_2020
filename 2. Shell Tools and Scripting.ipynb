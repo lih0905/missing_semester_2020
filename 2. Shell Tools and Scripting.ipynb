{
 "cells": [
  {
   "cell_type": "markdown",
   "metadata": {},
   "source": [
    "foo=bar\n",
    "\n",
    "echo \"$foo\"\n",
    "\n",
    "echo '$foo'"
   ]
  },
  {
   "cell_type": "markdown",
   "metadata": {},
   "source": [
    "```{shell}\n",
    "mcd () {\n",
    "    mkdir -p \"$1\"\n",
    "    cd \"$1\"\n",
    "}\n",
    "```"
   ]
  },
  {
   "cell_type": "markdown",
   "metadata": {},
   "source": [
    "이렇게 mcd.sh 를 정의한 후 `source mcd.sh`라고 치면 명령어로 인식됨. 그후 `mcd test` 라는 식으로 실행 가능"
   ]
  },
  {
   "cell_type": "markdown",
   "metadata": {},
   "source": [
    "```\n",
    "$0 - Name of the script\n",
    "$1 to $9 - Arguments to the script. $1 is the first argument and so on.\n",
    "$@ - All the arguments\n",
    "$# - Number of arguments\n",
    "$? - Return code of the previous command\n",
    "$$ - Process Identification number for the current script\n",
    "!! - Entire last command, including arguments. A common pattern is to execute a command only for it to fail due to missing permissions, then you can quickly execute it with sudo by doing sudo !!\n",
    "$_ - Last argument from the last command. If you are in an interactive shell, you can also quickly get this value by typing Esc followed by .\n",
    "```"
   ]
  },
  {
   "cell_type": "markdown",
   "metadata": {},
   "source": [
    "```\n",
    "grep foobar mcd.sh\n",
    "echo $?\n",
    "# 1\n",
    "```"
   ]
  },
  {
   "cell_type": "markdown",
   "metadata": {},
   "source": [
    "cat <(ls) <(ls ..)"
   ]
  },
  {
   "cell_type": "markdown",
   "metadata": {},
   "source": [
    "```\n",
    "#!/bin/bash\n",
    "\n",
    "echo \"Starting program at $(date)\" # Date will be substituted\n",
    "\n",
    "echo \"Running program $0 with $# arguments with pid $$\"\n",
    "\n",
    "for file in $@; do\n",
    "    grep foobar $file > /dev/null 2> /dev/null\n",
    "    # When pattern is not found, grep has exit status 1\n",
    "    # We redirect STDOUT and STDERR to a null register since we do not care about them\n",
    "    if [[ $? -ne 0 ]]; then\n",
    "        echo \"File $file does not have any foobar, adding one\"\n",
    "        echo \"# foobar\" >> \"$file\"\n",
    "    fi\n",
    "done\n",
    "```"
   ]
  },
  {
   "cell_type": "code",
   "execution_count": 9,
   "metadata": {
    "scrolled": true
   },
   "outputs": [
    {
     "name": "stdout",
     "output_type": "stream",
     "text": [
      "Starting program at 2020. 02. 21. (금) 00:09:12 KST\r\n",
      "Running program ./Lecture_2/example.sh with 2 arguments with pid 933\r\n",
      "File ./Lecture_2/mcd.sh does not have any foobar, adding one\r\n"
     ]
    }
   ],
   "source": [
    "!./Lecture_2/example.sh ./Lecture_2/mcd.sh ./Lecture_2/example.sh"
   ]
  },
  {
   "cell_type": "code",
   "execution_count": 10,
   "metadata": {},
   "outputs": [
    {
     "name": "stdout",
     "output_type": "stream",
     "text": [
      "mcd () {\r\n",
      "\tmkdir -p \"$1\"\r\n",
      "\tcd \"$1\"\r\n",
      "}\r\n",
      "# foobar\r\n"
     ]
    }
   ],
   "source": [
    "!cat ./Lecture_2/mcd.sh"
   ]
  },
  {
   "cell_type": "code",
   "execution_count": 11,
   "metadata": {},
   "outputs": [
    {
     "name": "stdout",
     "output_type": "stream",
     "text": [
      "TEST(1)                          User Commands                         TEST(1)\r\n",
      "\r\n",
      "N\bNA\bAM\bME\bE\r\n",
      "       test - check file types and compare values\r\n",
      "\r\n",
      "S\bSY\bYN\bNO\bOP\bPS\bSI\bIS\bS\r\n",
      "       t\bte\bes\bst\bt _\bE_\bX_\bP_\bR_\bE_\bS_\bS_\bI_\bO_\bN\r\n",
      "       t\bte\bes\bst\bt\r\n",
      "\r\n",
      "       [\b[ _\bE_\bX_\bP_\bR_\bE_\bS_\bS_\bI_\bO_\bN ]\r\n",
      "       [\b[ ]\r\n",
      "       [\b[ _\bO_\bP_\bT_\bI_\bO_\bN\r\n",
      "\r\n",
      "D\bDE\bES\bSC\bCR\bRI\bIP\bPT\bTI\bIO\bON\bN\r\n",
      "       Exit with the status determined by EXPRESSION.\r\n",
      "\r\n",
      "       -\b--\b-h\bhe\bel\blp\bp display this help and exit\r\n",
      "\r\n",
      "       -\b--\b-v\bve\ber\brs\bsi\bio\bon\bn\r\n",
      "              output version information and exit\r\n",
      "\r\n",
      "       An omitted EXPRESSION defaults to false.  Otherwise, EXPRESSION is true\r\n",
      "       or false and sets exit status.  It is one of:\r\n",
      "\r\n",
      "       ( EXPRESSION )\r\n",
      "              EXPRESSION is true\r\n",
      "\r\n",
      "       ! EXPRESSION\r\n",
      "              EXPRESSION is false\r\n",
      "\r\n",
      "       EXPRESSION1 -\b-a\ba EXPRESSION2\r\n",
      "              both EXPRESSION1 and EXPRESSION2 are true\r\n",
      "\r\n",
      "       EXPRESSION1 -\b-o\bo EXPRESSION2\r\n",
      "              either EXPRESSION1 or EXPRESSION2 is true\r\n",
      "\r\n",
      "       -\b-n\bn STRING\r\n",
      "              the length of STRING is nonzero\r\n",
      "\r\n",
      "       STRING equivalent to -\b-n\bn STRING\r\n",
      "\r\n",
      "       -\b-z\bz STRING\r\n",
      "              the length of STRING is zero\r\n",
      "\r\n",
      "       STRING1 = STRING2\r\n",
      "              the strings are equal\r\n",
      "\r\n",
      "       STRING1 != STRING2\r\n",
      "              the strings are not equal\r\n",
      "\r\n",
      "       INTEGER1 -\b-e\beq\bq INTEGER2\r\n",
      "              INTEGER1 is equal to INTEGER2\r\n",
      "\r\n",
      "       INTEGER1 -\b-g\bge\be INTEGER2\r\n",
      "              INTEGER1 is greater than or equal to INTEGER2\r\n",
      "\r\n",
      "       INTEGER1 -\b-g\bgt\bt INTEGER2\r\n",
      "              INTEGER1 is greater than INTEGER2\r\n",
      "\r\n",
      "       INTEGER1 -\b-l\ble\be INTEGER2\r\n",
      "              INTEGER1 is less than or equal to INTEGER2\r\n",
      "\r\n",
      "       INTEGER1 -\b-l\blt\bt INTEGER2\r\n",
      "              INTEGER1 is less than INTEGER2\r\n",
      "\r\n",
      "       INTEGER1 -\b-n\bne\be INTEGER2\r\n",
      "              INTEGER1 is not equal to INTEGER2\r\n",
      "\r\n",
      "       FILE1 -\b-e\bef\bf FILE2\r\n",
      "              FILE1 and FILE2 have the same device and inode numbers\r\n",
      "\r\n",
      "       FILE1 -\b-n\bnt\bt FILE2\r\n",
      "              FILE1 is newer (modification date) than FILE2\r\n",
      "\r\n",
      "       FILE1 -\b-o\bot\bt FILE2\r\n",
      "              FILE1 is older than FILE2\r\n",
      "\r\n",
      "       -\b-b\bb FILE\r\n",
      "              FILE exists and is block special\r\n",
      "\r\n",
      "       -\b-c\bc FILE\r\n",
      "              FILE exists and is character special\r\n",
      "\r\n",
      "       -\b-d\bd FILE\r\n",
      "              FILE exists and is a directory\r\n",
      "\r\n",
      "       -\b-e\be FILE\r\n",
      "              FILE exists\r\n",
      "\r\n",
      "       -\b-f\bf FILE\r\n",
      "              FILE exists and is a regular file\r\n",
      "\r\n",
      "       -\b-g\bg FILE\r\n",
      "              FILE exists and is set-group-ID\r\n",
      "\r\n",
      "       -\b-G\bG FILE\r\n",
      "              FILE exists and is owned by the effective group ID\r\n",
      "\r\n",
      "       -\b-h\bh FILE\r\n",
      "              FILE exists and is a symbolic link (same as -\b-L\bL)\r\n",
      "\r\n",
      "       -\b-k\bk FILE\r\n",
      "              FILE exists and has its sticky bit set\r\n",
      "\r\n",
      "       -\b-L\bL FILE\r\n",
      "              FILE exists and is a symbolic link (same as -\b-h\bh)\r\n",
      "\r\n",
      "       -\b-O\bO FILE\r\n",
      "              FILE exists and is owned by the effective user ID\r\n",
      "\r\n",
      "       -\b-p\bp FILE\r\n",
      "              FILE exists and is a named pipe\r\n",
      "\r\n",
      "       -\b-r\br FILE\r\n",
      "              FILE exists and read permission is granted\r\n",
      "\r\n",
      "       -\b-s\bs FILE\r\n",
      "              FILE exists and has a size greater than zero\r\n",
      "\r\n",
      "       -\b-S\bS FILE\r\n",
      "              FILE exists and is a socket\r\n",
      "\r\n",
      "       -\b-t\bt FD  file descriptor FD is opened on a terminal\r\n",
      "\r\n",
      "       -\b-u\bu FILE\r\n",
      "              FILE exists and its set-user-ID bit is set\r\n",
      "\r\n",
      "       -\b-w\bw FILE\r\n",
      "              FILE exists and write permission is granted\r\n",
      "\r\n",
      "       -\b-x\bx FILE\r\n",
      "              FILE exists and execute (or search) permission is granted\r\n",
      "\r\n",
      "       Except for -\b-h\bh and  -\b-L\bL,  all  FILE-related  tests  dereference  symbolic\r\n",
      "       links.   Beware  that  parentheses  need  to be escaped (e.g., by back‐\r\n",
      "       slashes) for shells.  INTEGER may also be -\b-l\bl STRING, which evaluates to\r\n",
      "       the length of STRING.\r\n",
      "\r\n",
      "       NOTE:  Binary  -\b-a\ba  and -\b-o\bo are inherently ambiguous.  Use 'test EXPR1 &&\r\n",
      "       test EXPR2' or 'test EXPR1 || test EXPR2' instead.\r\n",
      "\r\n",
      "       NOTE: [ honors the -\b--\b-h\bhe\bel\blp\bp and -\b--\b-v\bve\ber\brs\bsi\bio\bon\bn options,  but  test  does  not.\r\n",
      "       test treats each of those as it treats any other nonempty STRING.\r\n",
      "\r\n",
      "       NOTE:  your shell may have its own version of test and/or [, which usu‐\r\n",
      "       ally supersedes the version  described  here.   Please  refer  to  your\r\n",
      "       shell's documentation for details about the options it supports.\r\n",
      "\r\n",
      "A\bAU\bUT\bTH\bHO\bOR\bR\r\n",
      "       Written by Kevin Braunsdorf and Matthew Bradburn.\r\n",
      "\r\n",
      "R\bRE\bEP\bPO\bOR\bRT\bTI\bIN\bNG\bG B\bBU\bUG\bGS\bS\r\n",
      "       GNU coreutils online help: <http://www.gnu.org/software/coreutils/>\r\n",
      "       Report [ translation bugs to <http://translationproject.org/team/>\r\n",
      "\r\n",
      "C\bCO\bOP\bPY\bYR\bRI\bIG\bGH\bHT\bT\r\n",
      "       Copyright  ©  2017  Free Software Foundation, Inc.  License GPLv3+: GNU\r\n",
      "       GPL version 3 or later <http://gnu.org/licenses/gpl.html>.\r\n",
      "       This is free software: you are free  to  change  and  redistribute  it.\r\n",
      "       There is NO WARRANTY, to the extent permitted by law.\r\n",
      "\r\n",
      "S\bSE\bEE\bE A\bAL\bLS\bSO\bO\r\n",
      "       Full documentation at: <http://www.gnu.org/software/coreutils/[>\r\n",
      "       or available locally via: info '(coreutils) test invocation'\r\n",
      "\r\n",
      "GNU coreutils 8.28               January 2018                          TEST(1)\r\n"
     ]
    }
   ],
   "source": [
    "!man test"
   ]
  },
  {
   "cell_type": "markdown",
   "metadata": {},
   "source": [
    "# tools\n",
    "\n",
    "* shellcheck : 스크립트 오류 검사\n",
    "* tldr : 간단한 명령어 설명"
   ]
  },
  {
   "cell_type": "markdown",
   "metadata": {},
   "source": [
    "```\n",
    "rg \"import requests\" -t py -C 5 ~/G_drive/Programming\n",
    "```\n",
    "위 문장을 포함하는 파일을 찾아줌"
   ]
  },
  {
   "cell_type": "markdown",
   "metadata": {},
   "source": [
    "# Exercises\n",
    "\n",
    "1. Read `man ls` and write an `ls` command that lists files in the following manner\n",
    "\n",
    "    - Includes all files, including hidden files\n",
    "    - Sizes are listed in human readable format (e.g. 454M instead of 454279954)\n",
    "    - Files are ordered by recency\n",
    "    - Output is colorized"
   ]
  },
  {
   "cell_type": "code",
   "execution_count": 13,
   "metadata": {},
   "outputs": [
    {
     "name": "stdout",
     "output_type": "stream",
     "text": [
      "'1. Course overview + the shell.ipynb'   \u001b[0m\u001b[01;34mLecture_1\u001b[0m   README.md\r\n",
      "'2. Shell Tools and Scripting.ipynb'     \u001b[01;34mLecture_2\u001b[0m\r\n"
     ]
    }
   ],
   "source": [
    "!ls --color"
   ]
  },
  {
   "cell_type": "code",
   "execution_count": 14,
   "metadata": {},
   "outputs": [
    {
     "name": "stdout",
     "output_type": "stream",
     "text": [
      "'1. Course overview + the shell.ipynb'\t Lecture_1   README.md\r\n",
      "'2. Shell Tools and Scripting.ipynb'\t Lecture_2\r\n"
     ]
    }
   ],
   "source": [
    "!ls"
   ]
  },
  {
   "cell_type": "code",
   "execution_count": 15,
   "metadata": {},
   "outputs": [
    {
     "name": "stdout",
     "output_type": "stream",
     "text": [
      "합계 68K\r\n",
      "drwxrwxr-x  8 inhwan inhwan 4.0K  2월 21 00:39  .git\r\n",
      "drwxrwxr-x  6 inhwan inhwan 4.0K  2월 21 00:38  .\r\n",
      "-rw-r--r--  1 inhwan inhwan  13K  2월 21 00:38 '2. Shell Tools and Scripting.ipynb'\r\n",
      "drwxrwxr-x  8 inhwan inhwan 4.0K  2월 21 00:31  Lecture_2\r\n",
      "drwxr-xr-x  2 inhwan inhwan 4.0K  2월 20 23:52  Lecture_1\r\n",
      "drwxr-xr-x  2 inhwan inhwan 4.0K  2월 20 23:25  .ipynb_checkpoints\r\n",
      "-rw-r--r--  1 inhwan inhwan  24K  2월 20 23:13 '1. Course overview + the shell.ipynb'\r\n",
      "drwxr-xr-x 41 inhwan inhwan 4.0K  2월 20 00:39  ..\r\n",
      "-rw-rw-r--  1 inhwan inhwan  267  2월 20 00:11  README.md\r\n"
     ]
    }
   ],
   "source": [
    "!ls -lhat"
   ]
  },
  {
   "cell_type": "code",
   "execution_count": 17,
   "metadata": {},
   "outputs": [
    {
     "name": "stdout",
     "output_type": "stream",
     "text": [
      "합계 76K\r\n",
      "drwxrwxr-x  7 inhwan inhwan 4.0K  2월 21 01:04  \u001b[0m\u001b[01;34m.\u001b[0m\r\n",
      "-rw-r--r--  1 inhwan inhwan  17K  2월 21 01:04 '2. Shell Tools and Scripting.ipynb'\r\n",
      "drwxrwxr-x  8 inhwan inhwan 4.0K  2월 21 01:02  \u001b[01;34m.git\u001b[0m\r\n",
      "drwxrwxr-x  8 inhwan inhwan 4.0K  2월 21 01:01  \u001b[01;34mLecture_2\u001b[0m\r\n",
      "drwxrwxr-x  2 inhwan inhwan 4.0K  2월 21 00:45  \u001b[01;34mLecture_3\u001b[0m\r\n",
      "drwxr-xr-x  2 inhwan inhwan 4.0K  2월 20 23:52  \u001b[01;34mLecture_1\u001b[0m\r\n",
      "drwxr-xr-x  2 inhwan inhwan 4.0K  2월 20 23:25  \u001b[01;34m.ipynb_checkpoints\u001b[0m\r\n",
      "-rw-r--r--  1 inhwan inhwan  24K  2월 20 23:13 '1. Course overview + the shell.ipynb'\r\n",
      "drwxr-xr-x 41 inhwan inhwan 4.0K  2월 20 00:39  \u001b[01;34m..\u001b[0m\r\n",
      "-rw-rw-r--  1 inhwan inhwan  267  2월 20 00:11  README.md\r\n"
     ]
    }
   ],
   "source": [
    "!ls -lhat --color=auto"
   ]
  },
  {
   "cell_type": "markdown",
   "metadata": {},
   "source": [
    "2. Write bash functions `marco` and `polo` that do the following. Whenever you execute `marco` the current working directory should be saved in some manner, then when you execute `polo`, no matter what directory you are in, `polo` should `cd` you back to the directory where you executed `marco`. For ease of debugging you can write the code in a file `marco.sh` and (re)load the definitions to your shell by executing `source marco.sh`."
   ]
  },
  {
   "cell_type": "markdown",
   "metadata": {},
   "source": [
    "```shell\n",
    "marco() {\n",
    "    export MARCO=$(pwd)\n",
    "}\n",
    "```\n",
    "\n",
    "```{shell}\n",
    "polo() {\n",
    "    cd $MARCO\n",
    "}\n",
    "```\n",
    "\n",
    "`source ./marco.sh`\n",
    "`source ./polo.sh`"
   ]
  },
  {
   "cell_type": "markdown",
   "metadata": {},
   "source": [
    "3. Say you have a command that fails rarely. In order to debug it you need to capture its output but it can be time consuming to get a failure run. Write a bash script that runs the following script until it fails and captures its standard output and error streams to files and prints everything at the end. Bonus points if you can also report how many runs it took for the script to fail.\n",
    "\n",
    "```shell\n",
    " #!/usr/bin/env bash\n",
    "\n",
    " n=$(( RANDOM % 100 ))\n",
    "\n",
    " if [[ n -eq 42 ]]; then\n",
    "    echo \"Something went wrong\"\n",
    "    >&2 echo \"The error was using magic numbers\"\n",
    "    exit 1\n",
    " fi\n",
    "\n",
    " echo \"Everything went according to plan\"\n",
    "```"
   ]
  },
  {
   "cell_type": "code",
   "execution_count": null,
   "metadata": {},
   "outputs": [],
   "source": []
  }
 ],
 "metadata": {
  "kernelspec": {
   "display_name": "Python 3",
   "language": "python",
   "name": "python3"
  },
  "language_info": {
   "codemirror_mode": {
    "name": "ipython",
    "version": 3
   },
   "file_extension": ".py",
   "mimetype": "text/x-python",
   "name": "python",
   "nbconvert_exporter": "python",
   "pygments_lexer": "ipython3",
   "version": "3.7.3"
  }
 },
 "nbformat": 4,
 "nbformat_minor": 2
}
